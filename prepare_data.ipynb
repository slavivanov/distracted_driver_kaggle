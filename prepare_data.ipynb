{
 "cells": [
  {
   "cell_type": "code",
   "execution_count": 38,
   "metadata": {
    "ExecuteTime": {
     "end_time": "2017-02-17T13:22:48.632166",
     "start_time": "2017-02-17T13:22:48.626833"
    },
    "collapsed": false
   },
   "outputs": [],
   "source": [
    "from __future__ import absolute_import\n",
    "from __future__ import print_function\n",
    "from __future__ import division\n",
    "\n",
    "import os\n",
    "from glob import glob\n",
    "import shutil\n",
    "import random"
   ]
  },
  {
   "cell_type": "code",
   "execution_count": 52,
   "metadata": {
    "ExecuteTime": {
     "end_time": "2017-02-17T13:39:06.167859",
     "start_time": "2017-02-17T13:39:06.164388"
    },
    "collapsed": false
   },
   "outputs": [],
   "source": [
    "# Dataset structure is\n",
    "# /test/test\n",
    "# /train/c0/ to c9/ for each class\n",
    "# We need to make a validation set out of this.\n",
    "path = './'"
   ]
  },
  {
   "cell_type": "markdown",
   "metadata": {
    "heading_collapsed": true
   },
   "source": [
    "### Helper routines"
   ]
  },
  {
   "cell_type": "code",
   "execution_count": 50,
   "metadata": {
    "ExecuteTime": {
     "end_time": "2017-02-17T13:34:52.530721",
     "start_time": "2017-02-17T13:34:52.502078"
    },
    "collapsed": false,
    "hidden": true
   },
   "outputs": [],
   "source": [
    "def move(files, to):\n",
    "    '''Move files to a dir\n",
    "    Args: \n",
    "        files: List of file fullpaths\n",
    "        to: Fullpath to destination folder\n",
    "    '''\n",
    "    for filepath in files:\n",
    "        shutil.move(filepath, to)\n",
    "\n",
    "\n",
    "def copy(files, to):\n",
    "    '''Copy files to a dir\n",
    "    Args: \n",
    "        files: List of file fullpaths\n",
    "        to: Fullpath to destination folder\n",
    "    '''\n",
    "    for filepath in files:\n",
    "        shutil.copy(filepath, to)\n",
    "\n",
    "\n",
    "def get_files(origin, count=None, randomize=False):\n",
    "    ''' Get a list of files from a directory.\n",
    "    Args:\n",
    "        origin: Fullpath to the dir containing the files.\n",
    "        count: How many files to retrieve. \n",
    "            If be less than 1, represents % of all files in dir.\n",
    "        random: Whether to retrieve files in a random order.\n",
    "    Returns:\n",
    "        A list of the filenames in folder.\n",
    "    '''\n",
    "    all_files = [filepath for filepath in os.listdir(origin)]\n",
    "    if randomize:\n",
    "        random.shuffle(all_files)\n",
    "    if count is None:\n",
    "        # Return all files\n",
    "        return all_files\n",
    "    elif type(count) == int:\n",
    "        # Get this many files only\n",
    "        return all_files[:count]\n",
    "    elif type(count) == float and count > 0 and count < 1:\n",
    "        # Return a percentage of all files\n",
    "        num_files = len(all_files)\n",
    "        num_files_to_return = int(round(num_files * count))\n",
    "        return all_files[:num_files_to_return]\n",
    "\n",
    "\n",
    "def transfer_files(origin, destination, copy_only=True, randomize=False, count=None):\n",
    "    if not os.path.isdir(origin):\n",
    "        raise ValueError(\"{} is not a directory.\".format(origin))\n",
    "    if not os.path.isdir(destination):\n",
    "        os.makedirs(destination)\n",
    "    # Get files in origin\n",
    "    files = get_files(origin, randomize=randomize, count=count)\n",
    "    # Make list of paths, not names of files\n",
    "    files_path = [os.path.join(origin, filename) for filename in files]\n",
    "    if copy_only:\n",
    "        copy(files_path, destination)\n",
    "    else:\n",
    "        move(files_path, destination)"
   ]
  },
  {
   "cell_type": "markdown",
   "metadata": {
    "heading_collapsed": true
   },
   "source": [
    "### Organize the dataset"
   ]
  },
  {
   "cell_type": "code",
   "execution_count": 51,
   "metadata": {
    "ExecuteTime": {
     "end_time": "2017-02-17T13:36:30.668597",
     "start_time": "2017-02-17T13:36:28.427926"
    },
    "collapsed": false,
    "hidden": true
   },
   "outputs": [],
   "source": [
    "# Get all class folders\n",
    "class_paths = glob(os.path.join(path, 'train/*'))\n",
    "\n",
    "for class_path in class_paths:\n",
    "    class_name = os.path.basename(class_path)\n",
    "    # Create a sample train set\n",
    "    sample_train_destination = os.path.join(path, 'sample/train', class_name)\n",
    "    transfer_files(origin=class_path,\n",
    "                   destination=sample_train_destination,\n",
    "                   copy_only=True,\n",
    "                   randomize=True,\n",
    "                   count=110)\n",
    "\n",
    "    # Create a sample validation set\n",
    "    # Use the sample train destination to get the sample validation set.\n",
    "    sample_valid_destination = os.path.join(path, 'sample/valid', class_name)\n",
    "    transfer_files(origin=sample_train_destination,\n",
    "                   destination=sample_valid_destination,\n",
    "                   copy_only=False,\n",
    "                   randomize=True,\n",
    "                   count=10)\n",
    "\n",
    "    # Create a validation set\n",
    "    valid_destination = os.path.join(path, 'valid', class_name)\n",
    "    transfer_files(origin=class_path,\n",
    "                   destination=valid_destination,\n",
    "                   copy_only=False,\n",
    "                   randomize=True,\n",
    "                   count=0.1)"
   ]
  }
 ],
 "metadata": {
  "kernelspec": {
   "display_name": "Python [conda root]",
   "language": "python",
   "name": "conda-root-py"
  },
  "language_info": {
   "codemirror_mode": {
    "name": "ipython",
    "version": 2
   },
   "file_extension": ".py",
   "mimetype": "text/x-python",
   "name": "python",
   "nbconvert_exporter": "python",
   "pygments_lexer": "ipython2",
   "version": "2.7.13"
  }
 },
 "nbformat": 4,
 "nbformat_minor": 2
}
